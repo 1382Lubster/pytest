{
  "nbformat": 4,
  "nbformat_minor": 0,
  "metadata": {
    "colab": {
      "name": "pytest_demo.ipynb",
      "provenance": [],
      "collapsed_sections": []
    },
    "kernelspec": {
      "name": "python3",
      "display_name": "Python 3"
    },
    "language_info": {
      "name": "python"
    }
  },
  "cells": [
    {
      "cell_type": "code",
      "metadata": {
        "id": "GhKzruWkYH75",
        "colab": {
          "base_uri": "https://localhost:8080/"
        },
        "outputId": "9a72a2de-c0fc-4790-c3ce-30984a821e10"
      },
      "source": [
        "%%file test_file_load.py\n",
        "\n",
        "import pytest\n",
        "import pandas as pd\n",
        "import logging\n",
        "logging.basicConfig(level=logging.INFO)\n",
        "\n",
        "\n",
        "def load_csv(filepath):\n",
        "  try:\n",
        "    df= pd.read_csv(filepath)\n",
        "    if len(df)>0:\n",
        "    # Do something if \n",
        "      logging.info(\" Succesffully loaded file\")\n",
        "      return 1\n",
        "      \n",
        "  except FileNotFoundError:\n",
        "      # File doesn't exist\n",
        "      logging.info(\" File not found/ Incorrect file path\")\n",
        "      return 2\n",
        "\n",
        "  else:\n",
        "    # Return error loading file\n",
        "    logging.info(\" File load failed\")\n",
        "    return 3\n",
        "  \n",
        "\n",
        "class TestFileloader:   \n",
        "  def testthis(self):\n",
        "    status  = load_csv(\"abc.csv\")\n",
        "    assert status ==2"
      ],
      "execution_count": 1,
      "outputs": [
        {
          "output_type": "stream",
          "name": "stdout",
          "text": [
            "Writing test_file_load.py\n"
          ]
        }
      ]
    },
    {
      "cell_type": "code",
      "source": [
        "!python -m pytest test_file_load.py"
      ],
      "metadata": {
        "colab": {
          "base_uri": "https://localhost:8080/"
        },
        "id": "ff_tPlVKZvVv",
        "outputId": "989f3276-f1eb-4c4a-a197-8a71ca909f98"
      },
      "execution_count": 2,
      "outputs": [
        {
          "output_type": "stream",
          "name": "stdout",
          "text": [
            "\u001b[1m============================= test session starts ==============================\u001b[0m\n",
            "platform linux -- Python 3.7.12, pytest-3.6.4, py-1.11.0, pluggy-0.7.1\n",
            "rootdir: /content, inifile:\n",
            "plugins: typeguard-2.7.1\n",
            "collected 1 item                                                               \u001b[0m\n",
            "\n",
            "test_file_load.py .\u001b[36m                                                      [100%]\u001b[0m\n",
            "\n",
            "\u001b[32m\u001b[1m=========================== 1 passed in 0.57 seconds ===========================\u001b[0m\n"
          ]
        }
      ]
    },
    {
      "cell_type": "code",
      "source": [
        ""
      ],
      "metadata": {
        "id": "KmGt7Gc1oyBj"
      },
      "execution_count": null,
      "outputs": []
    }
  ]
}